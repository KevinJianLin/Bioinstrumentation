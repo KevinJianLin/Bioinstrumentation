{
 "cells": [
  {
   "cell_type": "markdown",
   "metadata": {},
   "source": [
    "Q1:\n",
    "ifRa=Ro(1-Z)andRb=RoVo+=(VpsRa)/(Ra+Rb)\n",
    "= [Vps (Ro(1-Z)] / [Ro(1-Z) + Ro]\n",
    "= Vps (1-Z)/(2-Z)\n",
    "• ifRd=Ro(1-Z)andRc=RoVo-=(VpsRd)/(Rd+Rc)\n",
    "= [Vps (Ro(1-Z)] / [Ro(1-Z) + Ro]\n",
    "= Vps (1-Z)/(2-Z)\n",
    "Thus, Vo = Vo+ - Vo- = [Vps (1-Z)/(2-Z)] – [Vps (1-Z)/(2-Z)] = 0.\n",
    "The output voltage would not vary with Z, so this is not a very good sensor!\n",
    "\n",
    "Swap the sensor resistor Rd with the non-sensor resistor Rc. This will create a “half bridge” (pg. 14 of class notes) that will cause Vo- to decrease any time Vo+ increases, and visa-versa. Alternatively, Ra could be swapped with Rb. However, if you were to swap both of these, you would be right back where you stated with Vo(Z) = 0\n",
    "\n",
    "Q2: \n",
    "\n",
    "\n",
    "\n",
    "\n",
    "Q3:\n",
    "ECG: Refers to ElectroCardioGram which is used to measure heart eletronic potential.Place electrode on the surface of human body. When muscle contracts, it creates action potential,ECG machine shows potential differece. \n",
    "\n",
    "EEG: Refers to ElectroEncephaloGram which is used to electrical activity in brain. Electrical discs are attached to brain. When brain cells communicate with each other, it generates electrical potential which can be scanned using EEG.\n",
    "\n",
    "EMG: Refers to ElectroMyoGraphy which is used to measure muscle electron response base on muscle nerve cell response. When muscle is at rest, there is no potential activity going on.These nerve cells are called motor neurons. They transfer electrical signals and ask muscle to relax or contract. \n",
    "\n",
    "ENG: Refers to ElectroNystagmoGraphy which is used to detect false sense of spinning or motiion. Electrode has placed under or above the eye. The activity of eye motion has been recording in the machine. The electrical acivitiy that controls eye moverment have been recorded.  \n",
    "\n",
    "ERG:Refers to ElectroRetinoGraphy which is used to detect the function of retina. During the test, eye was forced to look at certain objects. Retina transmit the electrical signal which can be captured by the machine and generate voltage."
   ]
  }
 ],
 "metadata": {
  "kernelspec": {
   "display_name": "Python 3",
   "language": "python",
   "name": "python3"
  },
  "language_info": {
   "codemirror_mode": {
    "name": "ipython",
    "version": 3
   },
   "file_extension": ".py",
   "mimetype": "text/x-python",
   "name": "python",
   "nbconvert_exporter": "python",
   "pygments_lexer": "ipython3",
   "version": "3.7.3"
  }
 },
 "nbformat": 4,
 "nbformat_minor": 2
}
