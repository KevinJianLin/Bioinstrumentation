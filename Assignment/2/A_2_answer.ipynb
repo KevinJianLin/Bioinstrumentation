{
 "cells": [
  {
   "cell_type": "markdown",
   "metadata": {},
   "source": [
    "            \n",
    "            \n",
    "            \n",
    "            \n",
    "            \n",
    "            \n",
    "            \n",
    "            \n",
    "            \n",
    "             Bioinstrumentation ENGG 6150 Assignment  \n",
    "                Student: Jian Bin(Kevin), Lin\n",
    "               Instructor: Dr.Maher Bakri-Kassem  \n",
    "\n",
    "\n",
    "\\newpage\n"
   ]
  },
  {
   "cell_type": "markdown",
   "metadata": {},
   "source": [
    "Q1:  \n",
    "$R_a$ = $R_d$ = $R_o$ - Z * $R_o$ = $R_o(1-Z)$\n",
    "\n",
    "$R_o$ = $\\frac{R_a}{1-Z}$\n",
    "\n",
    "$R_b$ = $R_C$ =$R_o$ = $\\frac{R_a}{1-Z}$ =$\\frac{R_d}{1-Z}$  \n",
    "  \n",
    "Output voltage has positive and negative output. \n",
    "\n",
    "$\\frac{v_{O+}}{V_{ps}}$ = $\\frac{R_a}{R_a + R_b}$ \n",
    "\n",
    "This is because positive voltage connects to $R_b$ and $R_a$    \n",
    "\n",
    "Arrange formula  \n",
    "\n",
    "$V_{O+}$ = $\\frac{V_{ps}R_o(1-Z)}{R_o(1-Z)+ R_o}$  \n",
    "\n",
    "$R_o$ cancelled out from denominator and numerinator  \n",
    "\n",
    "$V_{O+}$ = $\\frac{V_{ps}(1-Z)}{(1-Z)+1}$ \n",
    "\n",
    "$V_{O+}$ = $\\frac{V_{ps}(1-Z)}{2-Z}$ \n",
    "\n",
    "same principle apply to negative voltage side as it connects to $R_c$ and $R_d$\n",
    "\n",
    "$\\frac{v_{O-}}{V_{ps}}$ = $\\frac{R_d}{R_c + R_d}$\n",
    "\n",
    "Arrange formula  \n",
    "\n",
    "$V_{O-}$ = $\\frac{V_{ps}R_o(1-Z)}{R_o(1-Z)+ R_o}$  \n",
    "\n",
    "$R_o$ cancelled out from denominator and numerinator  \n",
    "\n",
    "$V_{O-}$ = $\\frac{V_{ps}(1-Z)}{(1-Z)+1}$ \n",
    "\n",
    "$V_{O-}$ = $\\frac{V_{ps}(1-Z)}{2-Z}$ \n",
    "\n",
    "$V_o$ = $V_{O+}$+$V_{O-}$  \n",
    "\n",
    "since negative node is \"-\", therefore   \n",
    "\n",
    "$V_o$ = $\\frac{V_{ps}(1-Z)}{2-Z}$ - $\\frac{V_{ps}(1-Z)}{2-Z}$ = 0  \n",
    "\n",
    "Output voltage does not depend on Z.   \n",
    "\n",
    "Alternatively, we can swab $R_a$ with $R_b$ or $R_c$ with $R_d$.   \n",
    "\n",
    "Assume swab $R_a$ with $R_b$   Then   \n",
    "\n",
    "$\\frac{v_{O+}}{V_{ps}}$ = $\\frac{R_b}{R_a + R_b}$  \n",
    "\n",
    "Arrange formula  \n",
    "\n",
    "$V_{O+}$ = $\\frac{V_{ps}R_o}{R_o(1-Z)+ R_o}$  \n",
    "\n",
    "$R_o$ cancelled out from denominator and numerinator  \n",
    "\n",
    "$V_{O+}$ = $\\frac{V_{ps}(1)}{(1-Z)+1}$ \n",
    "\n",
    "$V_{O+}$ = $\\frac{V_{ps}(1)}{2-Z}$ \n",
    "\n",
    "$\\frac{v_{O-}}{V_{ps}}$ = $\\frac{R_d}{R_c + R_d}$\n",
    "\n",
    "Arrange formula  \n",
    "\n",
    "$V_{O-}$ = $\\frac{V_{ps}R_o(1-Z)}{R_o(1-Z)+ R_o}$  \n",
    "\n",
    "$R_o$ cancelled out from denominator and numerinator  \n",
    "\n",
    "$V_{O-}$ = $\\frac{V_{ps}(1-Z)}{(1-Z)+1}$ \n",
    "\n",
    "$V_{O-}$ = $\\frac{V_{ps}(1-Z)}{2-Z}$ \n",
    "\n",
    "$V_o$ = $\\frac{V_{ps}(1)}{2-Z}$ - $\\frac{V_{ps}(1-Z)}{2-Z}$   \n",
    "\n",
    "Now output voltage depends on parameter Z.  \n",
    "\n",
    "\\newpage"
   ]
  },
  {
   "cell_type": "code",
   "execution_count": 36,
   "metadata": {},
   "outputs": [
    {
     "data": {
      "text/plain": [
       "<matplotlib.legend.Legend at 0x11422bc88>"
      ]
     },
     "execution_count": 36,
     "metadata": {},
     "output_type": "execute_result"
    },
    {
     "data": {
      "image/png": "[encoded data removed]",
      "text/plain": [
       "<Figure size 432x288 with 1 Axes>"
      ]
     },
     "metadata": {
      "needs_background": "light"
     },
     "output_type": "display_data"
    }
   ],
   "source": [
    "import numpy as np\n",
    "import math\n",
    "import matplotlib.pyplot as plt\n",
    "#Assume outage, temperature are certain values, question tells us that   \n",
    "#temperature is inversely proportional to time and resistive is inversely  \n",
    "#propotional to temperature   \n",
    "\n",
    "V_out = range(2,20,2)\n",
    "\n",
    "Time = range(1,10)\n",
    "\n",
    "Temperature = range(10,1,-1)\n",
    "\n",
    "Resistance = range(12,3,-1)\n",
    "\n",
    "plt.plot(Time,V_out,label='output voltage vs time')\n",
    "plt.xlabel('Time')\n",
    "plt.ylabel('y-aixs')\n",
    "plt.title('resistive temperature sensor')\n",
    "\n",
    "plt.plot(Time,Temperature,label='Temperature vs time')\n",
    "\n",
    "plt.plot(Time,Resistance,label='Sensor resistance vs temperature')\n",
    "\n",
    "plt.legend()  "
   ]
  },
  {
   "cell_type": "markdown",
   "metadata": {},
   "source": [
    "  \n",
    "\\newpage  \n"
   ]
  },
  {
   "cell_type": "code",
   "execution_count": null,
   "metadata": {},
   "outputs": [],
   "source": [
    "Q3:\n",
    "ECG: Refers to ElectroCardioGram which is used to measure heart eletronic  \n",
    "    potential.Place electrode on the surface of human body. When muscle  \n",
    "    contracts,it creates action potential,ECG machine shows potential  \n",
    "    differece.   \n",
    "\n",
    "EEG: Refers to ElectroEncephaloGram which is used to electrical activity   \n",
    "    in brain.Electrical discs are attached to brain. When brain cells  \n",
    "    communicate with each other,it generates electrical potential which  \n",
    "    can be scanned using EEG.  \n",
    "\n",
    "EMG: Refers to ElectroMyoGraphy which is used to measure muscle electron  \n",
    "    response base on muscle nerve cell response. When muscle is at rest,  \n",
    "    there is no potential activity going on.These nerve cells are called   \n",
    "    motor neurons. They transfer electrical signals and ask muscle to  \n",
    "    relax or contract.   \n",
    "\n",
    "ENG: Refers to ElectroNystagmoGraphy which is used to detect false sense  \n",
    "    of spinning or motiion. Electrode has placed under or above the eye.  \n",
    "    The activity of eye motion has been recording in the machine. The   \n",
    "    electrical acivitiy that controls eye moverment have been recorded.    \n",
    "\n",
    "ERG:Refers to ElectroRetinoGraphy which is used to detect the function   \n",
    "    of retina. During the test, eye was forced to look at certain objects.  \n",
    "    Retina transmit the electrical signal which can be captured by the   \n",
    "    machine and generate voltage."
   ]
  }
 ],
 "metadata": {
  "kernelspec": {
   "display_name": "Python 3",
   "language": "python",
   "name": "python3"
  },
  "language_info": {
   "codemirror_mode": {
    "name": "ipython",
    "version": 3
   },
   "file_extension": ".py",
   "mimetype": "text/x-python",
   "name": "python",
   "nbconvert_exporter": "python",
   "pygments_lexer": "ipython3",
   "version": "3.7.3"
  }
 },
 "nbformat": 4,
 "nbformat_minor": 2
}
