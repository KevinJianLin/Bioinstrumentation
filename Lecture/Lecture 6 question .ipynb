{
 "cells": [
  {
   "cell_type": "markdown",
   "metadata": {},
   "source": [
    "Hi Professor:\n",
    "\n",
    "Regarding to last part of slide at lecture 6 slide 30 example 6, formula is \n",
    "\n",
    "$\\frac{\\frac{R}{jωC}}{\\frac{R}{jωC}+jωL(R+\\frac{1}{jωC})}$\n",
    "\n",
    "After multiplication denominator and numerator with jωC, it becomes\n",
    "\n",
    "$\\frac{R}{R+jωL(jωCR+1)}$ after further multiplication in denominator I got this  \n",
    "\n",
    "$\\frac{R}{R+j^2ω^2RLC+jωL}$ \n",
    "\n",
    "however, in the slide you answer is  \n",
    "\n",
    "$\\frac{R}{R-ω^2RLC+jωL}$\n",
    "\n",
    "it seems like\n",
    "$j^2$ is equal to -1 base on your answer. That's how function transformed??\n",
    "\n",
    "can you explain in more details?\n",
    "\n",
    "Kevin Lin\n",
    "\n"
   ]
  }
 ],
 "metadata": {
  "kernelspec": {
   "display_name": "Python 3",
   "language": "python",
   "name": "python3"
  },
  "language_info": {
   "codemirror_mode": {
    "name": "ipython",
    "version": 3
   },
   "file_extension": ".py",
   "mimetype": "text/x-python",
   "name": "python",
   "nbconvert_exporter": "python",
   "pygments_lexer": "ipython3",
   "version": "3.7.3"
  }
 },
 "nbformat": 4,
 "nbformat_minor": 2
}
